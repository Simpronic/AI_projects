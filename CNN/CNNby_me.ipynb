{
 "cells": [
  {
   "cell_type": "code",
   "execution_count": 1,
   "id": "f61acd20-8d4c-4c78-91eb-10febddfa624",
   "metadata": {},
   "outputs": [
    {
     "name": "stdout",
     "output_type": "stream",
     "text": [
      "Requirement already satisfied: matplotlib in c:\\users\\marcd\\anaconda3\\envs\\my_env\\lib\\site-packages (3.9.3)\n",
      "Requirement already satisfied: contourpy>=1.0.1 in c:\\users\\marcd\\anaconda3\\envs\\my_env\\lib\\site-packages (from matplotlib) (1.3.0)\n",
      "Requirement already satisfied: cycler>=0.10 in c:\\users\\marcd\\anaconda3\\envs\\my_env\\lib\\site-packages (from matplotlib) (0.12.1)\n",
      "Requirement already satisfied: fonttools>=4.22.0 in c:\\users\\marcd\\anaconda3\\envs\\my_env\\lib\\site-packages (from matplotlib) (4.55.1)\n",
      "Requirement already satisfied: kiwisolver>=1.3.1 in c:\\users\\marcd\\anaconda3\\envs\\my_env\\lib\\site-packages (from matplotlib) (1.4.7)\n",
      "Requirement already satisfied: numpy>=1.23 in c:\\users\\marcd\\anaconda3\\envs\\my_env\\lib\\site-packages (from matplotlib) (1.26.4)\n",
      "Requirement already satisfied: packaging>=20.0 in c:\\users\\marcd\\anaconda3\\envs\\my_env\\lib\\site-packages (from matplotlib) (24.1)\n",
      "Requirement already satisfied: pillow>=8 in c:\\users\\marcd\\anaconda3\\envs\\my_env\\lib\\site-packages (from matplotlib) (11.0.0)\n",
      "Requirement already satisfied: pyparsing>=2.3.1 in c:\\users\\marcd\\anaconda3\\envs\\my_env\\lib\\site-packages (from matplotlib) (3.2.0)\n",
      "Requirement already satisfied: python-dateutil>=2.7 in c:\\users\\marcd\\anaconda3\\envs\\my_env\\lib\\site-packages (from matplotlib) (2.9.0.post0)\n",
      "Requirement already satisfied: importlib-resources>=3.2.0 in c:\\users\\marcd\\anaconda3\\envs\\my_env\\lib\\site-packages (from matplotlib) (6.4.5)\n",
      "Requirement already satisfied: zipp>=3.1.0 in c:\\users\\marcd\\anaconda3\\envs\\my_env\\lib\\site-packages (from importlib-resources>=3.2.0->matplotlib) (3.21.0)\n",
      "Requirement already satisfied: six>=1.5 in c:\\users\\marcd\\anaconda3\\envs\\my_env\\lib\\site-packages (from python-dateutil>=2.7->matplotlib) (1.16.0)\n"
     ]
    }
   ],
   "source": [
    "!pip install matplotlib"
   ]
  },
  {
   "cell_type": "code",
   "execution_count": 1,
   "id": "24fc31b9-3939-459d-8e3a-ec20c31362af",
   "metadata": {},
   "outputs": [],
   "source": [
    "#Esercizio costruzione CNN"
   ]
  },
  {
   "cell_type": "code",
   "execution_count": 2,
   "id": "e69f9f50-9633-4a5b-879b-a51bbf18bdaf",
   "metadata": {},
   "outputs": [],
   "source": [
    "import tensorflow as tf\n",
    "from tensorflow.keras.preprocessing.image import ImageDataGenerator\n",
    "import matplotlib.pyplot as plt\n",
    "import os"
   ]
  },
  {
   "cell_type": "code",
   "execution_count": 3,
   "id": "be8dc684-0678-45b0-874b-1c50cd365e5c",
   "metadata": {},
   "outputs": [],
   "source": [
    "os.environ[\"CUDA_VISIBLE_DEVICES\"] = \"-1\""
   ]
  },
  {
   "cell_type": "code",
   "execution_count": 4,
   "id": "c16440c5-adb1-4424-a5a4-c066af184b96",
   "metadata": {},
   "outputs": [],
   "source": [
    "#Funzione per fare il plotting della funzione di loss e l'accuracy nelle epoche"
   ]
  },
  {
   "cell_type": "code",
   "execution_count": 5,
   "id": "1bd7b662-6707-48b3-96bf-0e5e6503fc6c",
   "metadata": {},
   "outputs": [],
   "source": [
    "def plotStatistics(history):\n",
    "    train_accuracy = history.history['accuracy']\n",
    "    val_accuracy = history.history['val_accuracy']\n",
    "    train_loss = history.history['loss']\n",
    "    val_loss = history.history['val_loss']\n",
    "    epochs = range(1, len(train_accuracy) + 1)\n",
    "    plt.figure(figsize=(10, 6))\n",
    "    plt.plot(epochs, train_accuracy, label='Training Accuracy')\n",
    "    plt.plot(epochs, val_accuracy, label='Validation Accuracy')\n",
    "    plt.xlabel('Epoche')\n",
    "    plt.ylabel('Accuracy')\n",
    "    plt.title('Accuracy in funzione delle epoche')\n",
    "    plt.legend()\n",
    "    plt.grid(True)\n",
    "    plt.show()\n",
    "\n",
    "    plt.figure(figsize=(10, 6))\n",
    "    plt.plot(epochs, train_loss, label='Training Loss')\n",
    "    plt.plot(epochs, val_loss, label='Validation Loss')\n",
    "    plt.xlabel('Epoche')\n",
    "    plt.ylabel('Loss')\n",
    "    plt.title('Loss in funzione delle epoche')\n",
    "    plt.legend()\n",
    "    plt.grid(True)\n",
    "    plt.show()"
   ]
  },
  {
   "cell_type": "code",
   "execution_count": 6,
   "id": "7d2c4efa-969f-4932-9c4e-59f0459cc44d",
   "metadata": {},
   "outputs": [],
   "source": [
    "#Il mio obiettivo è fare data agumentation per \"aumentare\" il mio dataset portando varie versioni delle mie immagini"
   ]
  },
  {
   "cell_type": "code",
   "execution_count": 7,
   "id": "00dca28e-5822-4dda-9cb9-79d7d8bf60ec",
   "metadata": {},
   "outputs": [
    {
     "name": "stdout",
     "output_type": "stream",
     "text": [
      "Found 8000 images belonging to 2 classes.\n"
     ]
    }
   ],
   "source": [
    "train_datagen = ImageDataGenerator(rescale = 1./255,\n",
    "                                   shear_range = 0.2,\n",
    "                                   zoom_range = 0.2,\n",
    "                                   horizontal_flip = True)\n",
    "training_set = train_datagen.flow_from_directory(r\"C:\\Users\\marcd\\Desktop\\projects\\Corso_IA\\Deep Learning A-Z\\Part 2 - Convolutional Neural Networks (CNN)\\dataset\\training_set\",\n",
    "                                                 target_size = (64, 64),\n",
    "                                                 batch_size = 32,\n",
    "                                                 class_mode = 'binary')"
   ]
  },
  {
   "cell_type": "code",
   "execution_count": 8,
   "id": "95c949b4-7706-4f83-b2a4-fc2d6576004f",
   "metadata": {},
   "outputs": [],
   "source": [
    "#Per il testset ovviamente abbiamo bisogno della stessa scala di comparazione delle immagini, dunque usiamo lo stesso fattore di scala del train \n",
    "#Però non abbiamo bisogno di Data agumentation in questo caso nel testset"
   ]
  },
  {
   "cell_type": "code",
   "execution_count": 9,
   "id": "45110a40-2bca-4c2a-93ea-8f3271eb3c5a",
   "metadata": {},
   "outputs": [
    {
     "name": "stdout",
     "output_type": "stream",
     "text": [
      "Found 2000 images belonging to 2 classes.\n"
     ]
    }
   ],
   "source": [
    "test_datagen = ImageDataGenerator(rescale = 1./255)\n",
    "test_set = test_datagen.flow_from_directory(r\"C:\\Users\\marcd\\Desktop\\projects\\Corso_IA\\Deep Learning A-Z\\Part 2 - Convolutional Neural Networks (CNN)\\dataset\\test_set\",\n",
    "                                            target_size = (64, 64),\n",
    "                                            batch_size = 32,\n",
    "                                            class_mode = 'binary')"
   ]
  },
  {
   "cell_type": "code",
   "execution_count": 10,
   "id": "fb81ee6a-b411-41d1-bd2d-0c47a0b3cf52",
   "metadata": {},
   "outputs": [
    {
     "data": {
      "text/plain": [
       "2000"
      ]
     },
     "execution_count": 10,
     "metadata": {},
     "output_type": "execute_result"
    }
   ],
   "source": [
    "test_set.n"
   ]
  },
  {
   "cell_type": "code",
   "execution_count": 11,
   "id": "fab75b89-6a40-4a5b-96b0-f297e5e99cfa",
   "metadata": {},
   "outputs": [],
   "source": [
    "#Costruisco effettivamente la rete, suppongo abbia due livelli interni e poi il flattening e il livello denso"
   ]
  },
  {
   "cell_type": "code",
   "execution_count": 12,
   "id": "dcc22486-bae3-4bcd-a73d-b11d523955c8",
   "metadata": {},
   "outputs": [],
   "source": [
    "cnn = tf.keras.models.Sequential()"
   ]
  },
  {
   "cell_type": "code",
   "execution_count": 13,
   "id": "2f1415eb-2560-47e6-a025-b6b4ca01f96c",
   "metadata": {},
   "outputs": [],
   "source": [
    "# livello 1"
   ]
  },
  {
   "cell_type": "code",
   "execution_count": 14,
   "id": "76f3b6a2-0a38-46ee-b520-a33d78f1aeb2",
   "metadata": {},
   "outputs": [],
   "source": [
    "cnn.add(tf.keras.layers.Conv2D(filters=32, kernel_size=3, activation='relu', input_shape=[64, 64, 3]))\n",
    "cnn.add(tf.keras.layers.MaxPool2D(pool_size=2, strides=2))"
   ]
  },
  {
   "cell_type": "code",
   "execution_count": 15,
   "id": "379ed8fb-effb-4341-8de2-d34bdf943c33",
   "metadata": {},
   "outputs": [],
   "source": [
    "#livello 2\n",
    "\n",
    "#in questo livello non necessito del parametro di input_shape perchè è implicito dal livello 1 (quello di input)"
   ]
  },
  {
   "cell_type": "code",
   "execution_count": 16,
   "id": "96325de7-ccac-422a-89ea-596a082b5ca8",
   "metadata": {},
   "outputs": [],
   "source": [
    "cnn.add(tf.keras.layers.Conv2D(filters=32, kernel_size=3, activation='relu'))\n",
    "cnn.add(tf.keras.layers.MaxPool2D(pool_size=2, strides=2))"
   ]
  },
  {
   "cell_type": "code",
   "execution_count": 17,
   "id": "5d37406d-f4ba-4f3b-95ba-c631bc59ce33",
   "metadata": {},
   "outputs": [],
   "source": [
    "#Livello di Flattening"
   ]
  },
  {
   "cell_type": "code",
   "execution_count": 18,
   "id": "5c441b8b-109d-4b32-9bc2-99599649ec9d",
   "metadata": {},
   "outputs": [],
   "source": [
    "cnn.add(tf.keras.layers.Flatten())"
   ]
  },
  {
   "cell_type": "code",
   "execution_count": 19,
   "id": "f43b1d3c-ea08-44ab-957f-f2735ced9035",
   "metadata": {},
   "outputs": [],
   "source": [
    "#Livello di fully connection\n",
    "\n",
    "#In questo livello devo aggiungere più neuroni poichè i problemi su reti di tipo CNN sono più complessi"
   ]
  },
  {
   "cell_type": "code",
   "execution_count": 20,
   "id": "a7831170-4db6-4bd7-b8a0-29619b98361a",
   "metadata": {},
   "outputs": [],
   "source": [
    "cnn.add(tf.keras.layers.Dense(units=128, activation='relu'))"
   ]
  },
  {
   "cell_type": "code",
   "execution_count": 21,
   "id": "2855a0fc-94cf-466d-9255-a52ae550f324",
   "metadata": {},
   "outputs": [],
   "source": [
    "#Livello di output\n",
    "\n",
    "#Metto un solo neurone poichè sto in un problema di classificazione binaria"
   ]
  },
  {
   "cell_type": "code",
   "execution_count": 22,
   "id": "3f66c186-eb3c-4fa4-b2d9-bec49def7442",
   "metadata": {},
   "outputs": [],
   "source": [
    "cnn.add(tf.keras.layers.Dense(units=1, activation='sigmoid'))"
   ]
  },
  {
   "cell_type": "code",
   "execution_count": 23,
   "id": "233d0c5a-1412-4c2e-9c73-235f501a1b61",
   "metadata": {},
   "outputs": [],
   "source": [
    "#Ho costruito la rete, ora la devo allenare e valutare (non faccio il passo di validation"
   ]
  },
  {
   "cell_type": "code",
   "execution_count": 24,
   "id": "4502e769-e965-4e86-90f6-059ca0b8bf45",
   "metadata": {},
   "outputs": [],
   "source": [
    "cnn.compile(optimizer = 'adam', loss = 'binary_crossentropy', metrics = ['accuracy'])"
   ]
  },
  {
   "cell_type": "code",
   "execution_count": null,
   "id": "47669de9-f08a-43dd-8d76-836d29ec0f8d",
   "metadata": {},
   "outputs": [],
   "source": [
    "history = cnn.fit(x = training_set, validation_data = test_set, epochs = 25,batch_size=32)"
   ]
  },
  {
   "cell_type": "code",
   "execution_count": 91,
   "id": "88a3cacc-a0a3-4c42-9cdc-9945c6d3239e",
   "metadata": {},
   "outputs": [
    {
     "ename": "NameError",
     "evalue": "name 'history' is not defined",
     "output_type": "error",
     "traceback": [
      "\u001b[1;31m---------------------------------------------------------------------------\u001b[0m",
      "\u001b[1;31mNameError\u001b[0m                                 Traceback (most recent call last)",
      "Cell \u001b[1;32mIn[91], line 1\u001b[0m\n\u001b[1;32m----> 1\u001b[0m plotStatistics(\u001b[43mhistory\u001b[49m)\n",
      "\u001b[1;31mNameError\u001b[0m: name 'history' is not defined"
     ]
    }
   ],
   "source": [
    "plotStatistics(history)"
   ]
  },
  {
   "cell_type": "code",
   "execution_count": null,
   "id": "a3aa6c36-cef1-4cc1-a4ce-f44c17102702",
   "metadata": {},
   "outputs": [],
   "source": []
  }
 ],
 "metadata": {
  "kernelspec": {
   "display_name": "Python 3 (ipykernel)",
   "language": "python",
   "name": "python3"
  },
  "language_info": {
   "codemirror_mode": {
    "name": "ipython",
    "version": 3
   },
   "file_extension": ".py",
   "mimetype": "text/x-python",
   "name": "python",
   "nbconvert_exporter": "python",
   "pygments_lexer": "ipython3",
   "version": "3.9.18"
  }
 },
 "nbformat": 4,
 "nbformat_minor": 5
}
